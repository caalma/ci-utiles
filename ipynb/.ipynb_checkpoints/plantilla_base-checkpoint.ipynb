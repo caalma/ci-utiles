{
 "cells": [
  {
   "cell_type": "markdown",
   "metadata": {
    "id": "OjpjcQ63X-7y"
   },
   "source": [
    "Plantilla básica de notebook interactivo."
   ]
  },
  {
   "cell_type": "code",
   "execution_count": 1,
   "metadata": {
    "id": "dGxT4Nv0X5Z-"
   },
   "outputs": [],
   "source": [
    "# Lista de archivos de la carpeta actual\n",
    "!ls"
   ]
  }
 ],
 "metadata": {
  "colab": {
   "provenance": []
  },
  "kernelspec": {
   "display_name": "Python 3",
   "language": "python",
   "name": "python3"
  },
  "language_info": {
   "codemirror_mode": {
    "name": "ipython",
    "version": 3
   },
   "file_extension": ".py",
   "mimetype": "text/x-python",
   "name": "python",
   "nbconvert_exporter": "python",
   "pygments_lexer": "ipython3",
   "version": "3.8.10"
  }
 },
 "nbformat": 4,
 "nbformat_minor": 1
}
