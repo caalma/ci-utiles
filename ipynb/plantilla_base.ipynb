{
  "nbformat": 4,
  "nbformat_minor": 0,
  "metadata": {
    "colab": {
      "provenance": []
    },
    "kernelspec": {
      "name": "python3",
      "display_name": "Python 3"
    },
    "language_info": {
      "name": "python"
    }
  },
  "cells": [
    {
      "cell_type": "markdown",
      "source": [
        "Plantilla básica de notebook interactivo."
      ],
      "metadata": {
        "id": "OjpjcQ63X-7y"
      }
    },
    {
      "cell_type": "code",
      "execution_count": 1,
      "metadata": {
        "id": "dGxT4Nv0X5Z-"
      },
      "outputs": [],
      "source": [
        "#@title: Lista de archivos de la carpeta actual\n",
        "!ls"
      ]
    }
  ]
}