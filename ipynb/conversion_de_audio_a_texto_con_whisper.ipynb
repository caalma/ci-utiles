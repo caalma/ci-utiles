{
 "cells": [
  {
   "cell_type": "markdown",
   "metadata": {
    "id": "v5hvo8QWN-a9"
   },
   "source": [
    "# **Transcripción de audios** mediante Whisper\n",
    "\n",
    "- Documento original Notebook creado por [DotCSV](https://www.youtube.com/channel/UCy5znSnfMsDwaLlROnZ7Qbg)\n",
    "- Editado por Carlos Macheratti\n",
    "\n",
    "Pensado para ser utilizado desde Google Colab."
   ]
  },
  {
   "cell_type": "markdown",
   "metadata": {
    "id": "f-BcD0b8hwdA"
   },
   "source": [
    "### Consideraciones importantes:\n",
    "1. Para utilizar el servicio es necesario, disponer de acceso a internet y de una cuenta de gmail, con un poco de espacio libre en el drive.\n",
    "2. Si es la primera vez que usás este notebook hacé una copia en tu drive desde `\"Menu\" > \"Archivo\" > \"Guardar una copia en Drive\"`\n",
    "3. Controla que esté activada la **Aceleración por hardware** con GPU. Revisar en `\"Menú\" > \"Entorno de ejecución\" > \"Cambiar tipo de entorno de ejecución\"` que esté tildada la opción \"GPU T4\"\n",
    "4. Los datos almacenados en el procesamiento se eliminan al cerrar la sesión de Colab. Por lo que cada vez que lo utilices deberás realizar los pasos siguientes."
   ]
  },
  {
   "cell_type": "markdown",
   "metadata": {
    "id": "iEvobsjtee9y"
   },
   "source": [
    "## 1 - **Instalar** las librería de Whisper y otros requerimientos"
   ]
  },
  {
   "cell_type": "code",
   "execution_count": null,
   "metadata": {
    "cellView": "form",
    "id": "SJl7HJOeo0-P"
   },
   "outputs": [],
   "source": [
    "#@title Ejecutar esta celda.\n",
    "\n",
    "!pip install git+https://github.com/openai/whisper.git\n",
    "!pip install jiwer\n",
    "!pip install ffmpeg\n",
    "\n",
    "from IPython.display import HTML, Audio\n",
    "from google.colab.output import eval_js\n",
    "from base64 import b64decode\n",
    "import numpy as np\n",
    "from scipy.io.wavfile import read as wav_read\n",
    "import io\n",
    "import ffmpeg\n",
    "\n",
    "AUDIO_HTML = \"\"\"\n",
    "<script>\n",
    "var my_div = document.createElement(\"DIV\");\n",
    "var my_p = document.createElement(\"P\");\n",
    "var my_btn = document.createElement(\"BUTTON\");\n",
    "var t = document.createTextNode(\"Press to start recording\");\n",
    "\n",
    "my_btn.appendChild(t);\n",
    "//my_p.appendChild(my_btn);\n",
    "my_div.appendChild(my_btn);\n",
    "document.body.appendChild(my_div);\n",
    "\n",
    "var base64data = 0;\n",
    "var reader;\n",
    "var recorder, gumStream;\n",
    "var recordButton = my_btn;\n",
    "\n",
    "var handleSuccess = function(stream) {\n",
    "  gumStream = stream;\n",
    "  var options = {\n",
    "    //bitsPerSecond: 8000, //chrome seems to ignore, always 48k\n",
    "    mimeType : 'audio/webm;codecs=opus'\n",
    "    //mimeType : 'audio/webm;codecs=pcm'\n",
    "  };\n",
    "  //recorder = new MediaRecorder(stream, options);\n",
    "  recorder = new MediaRecorder(stream);\n",
    "  recorder.ondataavailable = function(e) {\n",
    "    var url = URL.createObjectURL(e.data);\n",
    "    var preview = document.createElement('audio');\n",
    "    preview.controls = true;\n",
    "    preview.src = url;\n",
    "    document.body.appendChild(preview);\n",
    "\n",
    "    reader = new FileReader();\n",
    "    reader.readAsDataURL(e.data);\n",
    "    reader.onloadend = function() {\n",
    "      base64data = reader.result;\n",
    "      //console.log(\"Inside FileReader:\" + base64data);\n",
    "    }\n",
    "  };\n",
    "  recorder.start();\n",
    "  };\n",
    "\n",
    "recordButton.innerText = \"Recording... press to stop\";\n",
    "\n",
    "navigator.mediaDevices.getUserMedia({audio: true}).then(handleSuccess);\n",
    "\n",
    "\n",
    "function toggleRecording() {\n",
    "  if (recorder && recorder.state == \"recording\") {\n",
    "      recorder.stop();\n",
    "      gumStream.getAudioTracks()[0].stop();\n",
    "      recordButton.innerText = \"Saving the recording... pls wait!\"\n",
    "  }\n",
    "}\n",
    "\n",
    "// https://stackoverflow.com/a/951057\n",
    "function sleep(ms) {\n",
    "  return new Promise(resolve => setTimeout(resolve, ms));\n",
    "}\n",
    "\n",
    "var data = new Promise(resolve=>{\n",
    "//recordButton.addEventListener(\"click\", toggleRecording);\n",
    "recordButton.onclick = ()=>{\n",
    "toggleRecording()\n",
    "\n",
    "sleep(2000).then(() => {\n",
    "  // wait 2000ms for the data to be available...\n",
    "  // ideally this should use something like await...\n",
    "  //console.log(\"Inside data:\" + base64data)\n",
    "  resolve(base64data.toString())\n",
    "\n",
    "});\n",
    "\n",
    "}\n",
    "});\n",
    "\n",
    "</script>\n",
    "\"\"\"\n",
    "\n",
    "def get_audio():\n",
    "  display(HTML(AUDIO_HTML))\n",
    "  data = eval_js(\"data\")\n",
    "  binary = b64decode(data.split(',')[1])\n",
    "\n",
    "  process = (ffmpeg\n",
    "    .input('pipe:0')\n",
    "    .output('pipe:1', format='wav')\n",
    "    .run_async(pipe_stdin=True, pipe_stdout=True, pipe_stderr=True, quiet=True, overwrite_output=True)\n",
    "  )\n",
    "  output, err = process.communicate(input=binary)\n",
    "\n",
    "  riff_chunk_size = len(output) - 8\n",
    "  # Break up the chunk size into four bytes, held in b.\n",
    "  q = riff_chunk_size\n",
    "  b = []\n",
    "  for i in range(4):\n",
    "      q, r = divmod(q, 256)\n",
    "      b.append(r)\n",
    "\n",
    "  # Replace bytes 4:8 in proc.stdout with the actual size of the RIFF chunk.\n",
    "  riff = output[:4] + bytes(b) + output[8:]\n",
    "\n",
    "  sr, audio = wav_read(io.BytesIO(riff))\n",
    "\n",
    "  return audio, sr"
   ]
  },
  {
   "cell_type": "markdown",
   "metadata": {
    "id": "Ea5fN0iPb9yd"
   },
   "source": [
    "## 2 - **Crear** la estructura de carpetas"
   ]
  },
  {
   "cell_type": "code",
   "execution_count": null,
   "metadata": {
    "cellView": "form",
    "id": "l_qTdtMfcQT1"
   },
   "outputs": [],
   "source": [
    "#@title Ejecutar esta celda para organizar automáticamente las carpetas del proyecto.\n",
    "!mkdir -p audio texto\n",
    "!rm -rf sample_data"
   ]
  },
  {
   "cell_type": "markdown",
   "metadata": {
    "id": "6SubqwUQ5cU3"
   },
   "source": [
    "## 3 - **Almacenar** los audios\n",
    "\n",
    "1. Abrir el Navegador de archivos (desde `\"Menú\" > \"Mostrar navegador de archivos\"`).\n",
    "2. Subir tus audios en la carpeta \"audio/\". Para lo cual se necesita presionar sobre el nombre de la carpeta y elegir desde el menu contextual la opción \"Subir\"."
   ]
  },
  {
   "cell_type": "markdown",
   "metadata": {
    "id": "XXZooJ-Wy9EL"
   },
   "source": [
    "## 4 - **Transcribir** los audios"
   ]
  },
  {
   "cell_type": "code",
   "execution_count": null,
   "metadata": {
    "cellView": "form",
    "id": "Aejy9Haxy81U"
   },
   "outputs": [],
   "source": [
    "#@title Ejecuta esta celda para realizar la conversión.\n",
    "!for archivo in ./audio/*;do whisper \"./$archivo\" --task transcribe --model medium --verbose False --output_dir texto; done"
   ]
  },
  {
   "cell_type": "markdown",
   "metadata": {
    "id": "MlATk0Io69lz"
   },
   "source": [
    "## 5 - **Descargar** las transcripciones\n",
    "\n",
    "1. Ejecutar la siguiente celda para empaquetar todos los textos transcriptos hacia el archivo **\"transcripciones.zip\"**, ubicado en la misma carpeta del proyecto. En caso de que no muestre el nuevo archivo actualizar desde el botón con el ícono de \"carpeta y flecha cicular\".\n",
    "2. Haciendo click derecho (o manteniendo presionado en dispositivos moviles) sobre ese archivo se habilita un menú con la opción **\"Descargar\"**.\n"
   ]
  },
  {
   "cell_type": "code",
   "execution_count": null,
   "metadata": {
    "cellView": "form",
    "id": "gx33fUnQ8s1M"
   },
   "outputs": [],
   "source": [
    "#@title Ejecutar esta celda para empaquetar:\n",
    "!zip -r ./transcripciones.zip ./texto/"
   ]
  },
  {
   "cell_type": "markdown",
   "metadata": {
    "id": "7nB_4MXYgIhy"
   },
   "source": [
    "## 6 - NOTA sobre las transcripciones.\n",
    "\n",
    "Los textos están en formato de texto plano. Estructurados para distintas utilidades.\n",
    "\n",
    "El que nos servirá, principalmente, será el que está en formato \"txt\".\n",
    "\n",
    "Dicho formato puede abrirse directamente con cualquier software de edición de texto plano (por ejemplo: Block de notas, Sublime Text) o enriquecido (por ejemplo: Microsoft Word, Google Docs, LibreoOffice Writer)."
   ]
  }
 ],
 "metadata": {
  "accelerator": "GPU",
  "colab": {
   "gpuType": "T4",
   "provenance": []
  },
  "kernelspec": {
   "display_name": "Python 3",
   "language": "python",
   "name": "python3"
  },
  "language_info": {
   "codemirror_mode": {
    "name": "ipython",
    "version": 3
   },
   "file_extension": ".py",
   "mimetype": "text/x-python",
   "name": "python",
   "nbconvert_exporter": "python",
   "pygments_lexer": "ipython3",
   "version": "3.8.10"
  }
 },
 "nbformat": 4,
 "nbformat_minor": 1
}
