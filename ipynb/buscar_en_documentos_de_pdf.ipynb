{
  "cells": [
    {
      "cell_type": "markdown",
      "metadata": {
        "id": "OjpjcQ63X-7y"
      },
      "source": [
        "# Buscar en documentos de Pdf"
      ]
    },
    {
      "cell_type": "code",
      "source": [
        "#@title Instalar librerias y cargar dependencias\n",
        "!pip install PyMuPDF\n",
        "\n",
        "import fitz\n",
        "from os import listdir\n",
        "from os.path import splitext, join"
      ],
      "metadata": {
        "id": "M0JxKYjqiy2c",
        "colab": {
          "base_uri": "https://localhost:8080/"
        },
        "outputId": "6a12f477-f933-4e6b-8dcd-4bc7e7a8820a"
      },
      "execution_count": 22,
      "outputs": [
        {
          "output_type": "stream",
          "name": "stdout",
          "text": [
            "Requirement already satisfied: PyMuPDF in /usr/local/lib/python3.10/dist-packages (1.22.5)\n"
          ]
        }
      ]
    },
    {
      "cell_type": "code",
      "source": [
        "#@title Crear estructura de carpetas y variables\n",
        "rPdf = './pdf/'\n",
        "rTxt = './texto/'\n",
        "dTexto = {}\n",
        "\n",
        "!mkdir -p $rPdf $rTxt\n",
        "!rm -rf ./sample_data/"
      ],
      "metadata": {
        "id": "Bj8LGohMj88U"
      },
      "execution_count": 24,
      "outputs": []
    },
    {
      "cell_type": "markdown",
      "source": [
        "Subir los archivos pdf a la carpeta `./pdf/`"
      ],
      "metadata": {
        "id": "JNeRTPN0kXBS"
      }
    },
    {
      "cell_type": "code",
      "execution_count": 25,
      "metadata": {
        "id": "dGxT4Nv0X5Z-"
      },
      "outputs": [],
      "source": [
        "#@title Extraer textos de los pdfs\n",
        "for aPdf in listdir(rPdf):\n",
        "  if aPdf.endswith('.pdf'):\n",
        "    with fitz.open(join(rPdf, aPdf)) as doc:\n",
        "      texto = \"\"\n",
        "      for pagina in doc:\n",
        "        texto += pagina.get_text()\n",
        "      aTxt = splitext(aPdf)[0] + '.txt'\n",
        "      with open(join(rTxt, aTxt), 'w') as f:\n",
        "        f.write(texto)\n",
        "      dTexto[aPdf] = texto"
      ]
    },
    {
      "cell_type": "code",
      "source": [
        "# Agregar búsquedas en la siguiente lista\n",
        "busqueda = ['alumno', 'emilio', 'Leszczynski']"
      ],
      "metadata": {
        "id": "w33ldlKtqUp3"
      },
      "execution_count": 26,
      "outputs": []
    },
    {
      "cell_type": "code",
      "source": [
        "#@title Rastrear palabras\n",
        "\n",
        "for bus in busqueda:\n",
        "  buslw = bus.lower()\n",
        "  for nom, tex in dTexto.items():\n",
        "    texlw = tex.lower()\n",
        "    if buslw in texlw:\n",
        "      print(f'«{bus}» está en : \"{nom}\"')"
      ],
      "metadata": {
        "id": "xzAeMCltpC-l",
        "colab": {
          "base_uri": "https://localhost:8080/"
        },
        "outputId": "04be58ff-c47f-4fc6-a1cb-317f44337940"
      },
      "execution_count": 27,
      "outputs": [
        {
          "output_type": "stream",
          "name": "stdout",
          "text": [
            "«alumno» está en : \"test.pdf\"\n",
            "«alumno» está en : \"emilio-o-de-la-educacion-jean-jacques-rousseaupdf.pdf\"\n",
            "«emilio» está en : \"test.pdf\"\n",
            "«emilio» está en : \"emilio-o-de-la-educacion-jean-jacques-rousseaupdf.pdf\"\n",
            "«Leszczynski» está en : \"emilio-o-de-la-educacion-jean-jacques-rousseaupdf.pdf\"\n"
          ]
        }
      ]
    },
    {
      "cell_type": "markdown",
      "source": [
        "# FALTA\n",
        "+ indicar la posición de página o porcentaje dentro del docuemnto.\n",
        "+ listar todas las ocurrencias que sucedan en cada archivo.\n"
      ],
      "metadata": {
        "id": "_LFBCS2NsuEx"
      }
    }
  ],
  "metadata": {
    "colab": {
      "provenance": []
    },
    "kernelspec": {
      "display_name": "Python 3",
      "language": "python",
      "name": "python3"
    },
    "language_info": {
      "codemirror_mode": {
        "name": "ipython",
        "version": 3
      },
      "file_extension": ".py",
      "mimetype": "text/x-python",
      "name": "python",
      "nbconvert_exporter": "python",
      "pygments_lexer": "ipython3",
      "version": "3.8.10"
    }
  },
  "nbformat": 4,
  "nbformat_minor": 0
}