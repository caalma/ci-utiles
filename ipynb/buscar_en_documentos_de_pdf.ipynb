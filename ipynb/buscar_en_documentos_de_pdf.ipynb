{
 "cells": [
  {
   "cell_type": "markdown",
   "metadata": {
    "id": "OjpjcQ63X-7y"
   },
   "source": [
    "# Buscar en documentos de Pdf"
   ]
  },
  {
   "cell_type": "code",
   "execution_count": null,
   "metadata": {
    "colab": {
     "base_uri": "https://localhost:8080/"
    },
    "id": "M0JxKYjqiy2c",
    "outputId": "6a12f477-f933-4e6b-8dcd-4bc7e7a8820a"
   },
   "outputs": [],
   "source": [
    "#@title Instalar librerias y cargar dependencias\n",
    "!pip install PyMuPDF\n",
    "\n",
    "import fitz\n",
    "from os import listdir\n",
    "from os.path import splitext, join"
   ]
  },
  {
   "cell_type": "code",
   "execution_count": null,
   "metadata": {
    "id": "Bj8LGohMj88U"
   },
   "outputs": [],
   "source": [
    "#@title Crear estructura de carpetas y variables\n",
    "rPdf = './pdf/'\n",
    "rTxt = './texto/'\n",
    "dTexto = {}\n",
    "\n",
    "!mkdir -p $rPdf $rTxt\n",
    "!rm -rf ./sample_data/"
   ]
  },
  {
   "cell_type": "markdown",
   "metadata": {
    "id": "JNeRTPN0kXBS"
   },
   "source": [
    "Subir los archivos pdf a la carpeta `./pdf/`"
   ]
  },
  {
   "cell_type": "code",
   "execution_count": null,
   "metadata": {
    "id": "dGxT4Nv0X5Z-"
   },
   "outputs": [],
   "source": [
    "#@title Extraer textos de los pdfs\n",
    "for aPdf in listdir(rPdf):\n",
    "  if aPdf.endswith('.pdf'):\n",
    "    with fitz.open(join(rPdf, aPdf)) as doc:\n",
    "      texto = \"\"\n",
    "      for pagina in doc:\n",
    "        texto += pagina.get_text()\n",
    "      aTxt = splitext(aPdf)[0] + '.txt'\n",
    "      with open(join(rTxt, aTxt), 'w') as f:\n",
    "        f.write(texto)\n",
    "      dTexto[aPdf] = texto"
   ]
  },
  {
   "cell_type": "code",
   "execution_count": null,
   "metadata": {
    "id": "w33ldlKtqUp3"
   },
   "outputs": [],
   "source": [
    "# Agregar búsquedas en la siguiente lista\n",
    "busquedas = ['Palabra', 'frase a buscar', '¿?']"
   ]
  },
  {
   "cell_type": "code",
   "execution_count": null,
   "metadata": {
    "colab": {
     "base_uri": "https://localhost:8080/"
    },
    "id": "xzAeMCltpC-l",
    "outputId": "04be58ff-c47f-4fc6-a1cb-317f44337940"
   },
   "outputs": [],
   "source": [
    "#@title Rastrear palabras\n",
    "\n",
    "for bus in busquedas:\n",
    "  buslw = bus.lower()\n",
    "  for nom, tex in dTexto.items():\n",
    "    texlw = tex.lower()\n",
    "    if buslw in texlw:\n",
    "      print(f'«{bus}» está en : \"{nom}\"')"
   ]
  },
  {
   "cell_type": "markdown",
   "metadata": {
    "id": "_LFBCS2NsuEx"
   },
   "source": [
    "# FALTA\n",
    "+ indicar la posición de página o porcentaje dentro del documento.\n",
    "+ listar todas las ocurrencias que sucedan en cada archivo.\n"
   ]
  }
 ],
 "metadata": {
  "colab": {
   "provenance": []
  },
  "kernelspec": {
   "display_name": "Python 3",
   "language": "python",
   "name": "python3"
  },
  "language_info": {
   "codemirror_mode": {
    "name": "ipython",
    "version": 3
   },
   "file_extension": ".py",
   "mimetype": "text/x-python",
   "name": "python",
   "nbconvert_exporter": "python",
   "pygments_lexer": "ipython3",
   "version": "3.8.10"
  }
 },
 "nbformat": 4,
 "nbformat_minor": 1
}
